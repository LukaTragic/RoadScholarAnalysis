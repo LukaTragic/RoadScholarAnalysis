{
 "cells": [
  {
   "cell_type": "code",
   "execution_count": 1,
   "metadata": {},
   "outputs": [],
   "source": [
    "from selenium import webdriver\n",
    "from selenium.webdriver.common.by import By\n",
    "from selenium.webdriver.chrome.service import Service as ChromeService\n",
    "from selenium.webdriver.support.ui import WebDriverWait\n",
    "from selenium.webdriver.support import expected_conditions as EC\n",
    "from webdriver_manager.chrome import ChromeDriverManager\n",
    "import time\n"
   ]
  },
  {
   "cell_type": "code",
   "execution_count": 5,
   "metadata": {},
   "outputs": [],
   "source": [
    "# Function to scrape data from a given URL\n",
    "def scrape_data(url):\n",
    "    # Instantiate options\n",
    "    options = webdriver.ChromeOptions()\n",
    "\n",
    "    # Run browser in headless mode\n",
    "    options.headless = True\n",
    "\n",
    "    # Disable notifications and popups\n",
    "    prefs = {\n",
    "        \"profile.default_content_setting_values.popups\": 1,\n",
    "    }\n",
    "    options.add_experimental_option(\"prefs\", prefs)\n",
    "    options.add_argument(\"--disable-popup-blocking\")\n",
    "\n",
    "    # Instantiate driver\n",
    "    driver = webdriver.Chrome(service=ChromeService(ChromeDriverManager().install()), options=options)\n",
    "\n",
    "    # Load website\n",
    "    driver.get(url)\n",
    "\n",
    "    # Scroll and load all elements\n",
    "    SCROLL_PAUSE_TIME = 1.5\n",
    "    last_height = driver.execute_script(\"return document.body.scrollHeight\")\n",
    "\n",
    "    while True:\n",
    "        # Scroll down to the bottom\n",
    "        driver.execute_script(\"window.scrollTo(0, document.body.scrollHeight);\")\n",
    "\n",
    "        # Wait to load the page\n",
    "        time.sleep(SCROLL_PAUSE_TIME)\n",
    "\n",
    "        # Calculate new scroll height and compare with last scroll height\n",
    "        new_height = driver.execute_script(\"return document.body.scrollHeight\")\n",
    "        if new_height == last_height:\n",
    "            new_height = driver.execute_script(\"return document.body.scrollHeight\")\n",
    "            break\n",
    "        last_height = new_height\n",
    "\n",
    "    # Wait for all elements to be present\n",
    "    wait = WebDriverWait(driver, 10)\n",
    "    wait.until(EC.presence_of_all_elements_located((By.CLASS_NAME, 'tfu-program-number-value')))\n",
    "\n",
    "    # Select elements by class name\n",
    "    elements = driver.find_elements(By.CLASS_NAME, 'tfu-program-number-value')\n",
    "    data = []\n",
    "    for element in elements:\n",
    "        # Select spans within the element\n",
    "        spans = element.find_elements(By.TAG_NAME, 'span')\n",
    "        # Join the text of all spans and append to data list\n",
    "        span_texts = ''.join(span.text for span in spans)\n",
    "        data.append(span_texts)\n",
    "\n",
    "    driver.quit()\n",
    "    return data"
   ]
  },
  {
   "cell_type": "code",
   "execution_count": 8,
   "metadata": {},
   "outputs": [],
   "source": [
    "us_data = scrape_data('https://www.roadscholar.org/collections/us-canada-travel-tours/')"
   ]
  },
  {
   "cell_type": "code",
   "execution_count": null,
   "metadata": {},
   "outputs": [],
   "source": [
    "print(length(us_data))"
   ]
  }
 ],
 "metadata": {
  "kernelspec": {
   "display_name": "RSenv",
   "language": "python",
   "name": "python3"
  },
  "language_info": {
   "codemirror_mode": {
    "name": "ipython",
    "version": 3
   },
   "file_extension": ".py",
   "mimetype": "text/x-python",
   "name": "python",
   "nbconvert_exporter": "python",
   "pygments_lexer": "ipython3",
   "version": "3.12.0"
  }
 },
 "nbformat": 4,
 "nbformat_minor": 2
}
